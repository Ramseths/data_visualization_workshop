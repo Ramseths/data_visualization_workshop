{
  "nbformat": 4,
  "nbformat_minor": 0,
  "metadata": {
    "colab": {
      "name": "retos_dos.ipynb",
      "provenance": []
    },
    "kernelspec": {
      "name": "python3",
      "display_name": "Python 3"
    },
    "language_info": {
      "name": "python"
    }
  },
  "cells": [
    {
      "cell_type": "markdown",
      "metadata": {
        "id": "n2DCybaaI6uH"
      },
      "source": [
        "# Retos Segunda Parte\n",
        "## A continuación realiza lo siguiente:"
      ]
    },
    {
      "cell_type": "markdown",
      "metadata": {
        "id": "E2XqjwXzI9eV"
      },
      "source": [
        "# Reto 1\n",
        "\n",
        "* Crea un diccionario de mapa de color para las especies Adelie, Gentoo y Chinstrap a códigos RGB (235, 52, 52), (235, 148, 52) y (67, 52, 235) respectivamente.\n",
        "* Crea un Scatterplot usando plotly.express para los datos de los pingüinos, en el eje de la X coloca la característica \"Culmen Length (mm)\" y en el eje de la Y \"Culmen Depth (mm)\"\n",
        "* Configura el atributo color para el campo \"Species\" y usa el mapa de color creado."
      ]
    },
    {
      "cell_type": "code",
      "metadata": {
        "id": "q3zDoEGiIpMl"
      },
      "source": [
        "# Código\n",
        "import pandas as pd\n",
        "import plotly.express as px\n",
        "\n",
        "pinguinos = pd.read_csv('https://raw.githubusercontent.com/Ramseths/data_visualization_workshop/main/data/penguins.csv')\n",
        "pinguinos.head()"
      ],
      "execution_count": null,
      "outputs": []
    },
    {
      "cell_type": "code",
      "metadata": {
        "id": "Uhra0DA6Ggjm"
      },
      "source": [
        "mapa_color = {'Adelie Penguin (Pygoscelis adeliae)' : 'rgb(?, ?, ?)',\n",
        "              'Gentoo penguin (Pygoscelis papua)' : '',\n",
        "              'Chinstrap penguin (Pygoscelis antarctica)' : ''} # Este es la lista de tuplas de color\n",
        "\n",
        "fig_px = px.scatter(data_frame = _ _ _,\n",
        "                    x = '_ _ _',\n",
        "                    _ = '_ _ _',\n",
        "                    _ _ _ = 'Species',\n",
        "                    _ _ _ = mapa_color\n",
        "                   )\n",
        "fig_px._ _ _"
      ],
      "execution_count": null,
      "outputs": []
    },
    {
      "cell_type": "markdown",
      "metadata": {
        "id": "SOb0qRISKetJ"
      },
      "source": [
        "# Reto 2\n",
        "\n",
        "* Crea una tabla de correlación de Pearson utilizando Pandas para el dataframe \"pinguinos\" utilizado en el reto anterior y guardala en pinguinos_corr"
      ]
    },
    {
      "cell_type": "code",
      "metadata": {
        "id": "9ERNoftfMwmu"
      },
      "source": [
        "# Código\n",
        "pinguinos_corr ="
      ],
      "execution_count": null,
      "outputs": []
    },
    {
      "cell_type": "markdown",
      "metadata": {
        "id": "15v_ShXJM0mh"
      },
      "source": [
        "* Crea una gráfico de correlación utilizando go.Heatmap() con los elementos apropiados para x, y & z.\n",
        "* Configura el atributo 'colorscale' con el valor 'Rainbow'. Nota: Recuerda establecer el valor zmin y zmax."
      ]
    },
    {
      "cell_type": "code",
      "metadata": {
        "id": "lV0zOZKnN6DN"
      },
      "source": [
        "# Código\n",
        "# Código\n",
        "import plotly.graph_objects as go\n",
        "fig_correlacion = go.Figure(go.Heatmap(\n",
        "      x = pinguinos_corr.columns,\n",
        "      y = _ _ _,\n",
        "      z = pinguinos_corr.values.tolist(),\n",
        "      colorscale = '_ _ _',\n",
        "      zmin = _ ,\n",
        "      zmax = _\n",
        "))\n",
        "\n",
        "fig_correlacion.show()"
      ],
      "execution_count": null,
      "outputs": []
    },
    {
      "cell_type": "markdown",
      "metadata": {
        "id": "pxBNzeZrOciX"
      },
      "source": [
        "# Reto 3\n",
        "\n",
        "* Crea un gráfico de dispersión utilizando el DataFrame 'life_gdp', estableciendo que el eje x sea 'Life expectancy', que el eje y sea el 'GDP Per Capita' y que los colores se basen en el 'Continent'.\n",
        "* Crea un diccionario de leyenda que se sitúe en un 20% a lo largo del eje x y en un 95% en el eje y.\n",
        "* Configura la caja de la leyenda para que el color de fondo de la leyenda sea el código RGB (60, 240, 201) y el ancho del borde sea de 6.\n",
        "* Actualiza el diseño de tu gráfico de dispersión para mostrar la leyenda que acabas de crear."
      ]
    },
    {
      "cell_type": "code",
      "metadata": {
        "id": "rY8kas_AOSUb"
      },
      "source": [
        "# Código\n",
        "import plotly.express as px\n",
        "import pandas as pd\n",
        "\n",
        "life_gdp = pd.read_csv('')\n",
        "\n",
        "# Gráfico de Dispersión\n",
        "fig_reto3 = px.scatter(\n",
        "    data_frame = life_gdp,\n",
        "    x = 'Life expectancy',\n",
        "    y = '_ _ _',\n",
        "    _ _ = '_ _'\n",
        ")\n",
        "\n",
        "# Leyenda\n",
        "mi_leyenda = {'x': _ _, 'y': _ _, \n",
        "            'bgcolor': 'rgb(?, ?, ?)', 'borderwidth': _}\n",
        "\n",
        "# Actualizar\n",
        "fig_reto3.update_layout({'showlegend': _ _, 'legend': mi_leyenda})\n",
        "\n",
        "# Mostrar gráfico\n",
        "fig_reto3.show()"
      ],
      "execution_count": null,
      "outputs": []
    },
    {
      "cell_type": "markdown",
      "metadata": {
        "id": "TBjyy2Nidrk3"
      },
      "source": [
        "# Reto 4\n",
        "* Crea un gráfico de dispersión utilizando el DataFrame 'life_gdp', estableciendo que el eje x sea 'Life expectancy', que el eje y sea el 'GDP Per Capita' y que los colores se basen en el 'Continent'.\n",
        "* Añade las columnas 'Continent', 'Life expectancy' y  'GDP Per Capita' para que aparezcan en la información del hover.\n",
        "* Establezca la variable 'Country' para que aparezca en negrita en la parte superior de la información hover."
      ]
    },
    {
      "cell_type": "code",
      "metadata": {
        "id": "FabH63TYiI-y"
      },
      "source": [
        "fig = px.scatter(\n",
        "  _ _ _ = _ _ _, \n",
        "  _ = '_ _ _',\n",
        "  _ =' _ _ _',\n",
        "  _ _ _ = '_ _ _', \n",
        "  # Añade columnas para información del hover\n",
        "  hover_data = [_ _ _],\n",
        "  # Parte superior del hover\n",
        "  _ _ _ = _ _ _\n",
        ")\n",
        "\n",
        "# Mostrar figura\n",
        "fig.show()"
      ],
      "execution_count": null,
      "outputs": []
    },
    {
      "cell_type": "markdown",
      "metadata": {
        "id": "f87uwgwCm5KS"
      },
      "source": [
        "# Reto 5\n",
        "\n",
        "Durante las últimas 30 semanas has trabajado duro para acumular  tus ahorros para tu primer automóvil. Sin embargo, hay que añadir algo de contexto para explicar una caída de los ahorros y posteriormente, un gran aumento de los ahorros acumulados cada quince días.\n",
        "\n",
        "Tu tarea consiste en anotar el gráfico de barras de tu saldo de ahorro a lo largo de las semanas y añadir dos anotaciones clave al gráfico para explicar lo sucedido.\n",
        "\n",
        "* Crea la \"anotacion_perdida\" en la semana 10 (ahorros 400) con el texto \"Gastos urgentes de casa\".\n",
        "* Crea la \"anotacion_ganancia\" en la semana 18 (ahorros 2500) con el texto \"Conseguí nuevo empleo\".\n",
        "* Ambas anotaciones deben tener el argumento \"arrowhead\" en 4 y el color de texto debe ser \"black\". Nota: No debes usar RGB.\n",
        "* Añade ambas anotaciones al gráfico \"fig_ahorros\" usando update_layout().\n"
      ]
    },
    {
      "cell_type": "code",
      "metadata": {
        "id": "DmHDxH8KvIV-"
      },
      "source": [
        "# Ejecuta esta celda para visualizar el gráfico\n",
        "import plotly.express as px\n",
        "import pandas as pd\n",
        "ahorros = pd.read_csv('https://raw.githubusercontent.com/Ramseths/data_visualization_workshop/main/data/ahorros.csv')\n",
        "fig_ahorros = px.bar(data_frame=ahorros, x='Semana', y='Ahorros')\n",
        "fig_ahorros.show()"
      ],
      "execution_count": null,
      "outputs": []
    },
    {
      "cell_type": "code",
      "metadata": {
        "id": "35BtFnJd2We0"
      },
      "source": [
        "# Código\n",
        "anotacion_perdidad = {'x': _ _, 'y': _ _, 'showarrow': __ __, 'arrowhead': __ __,\n",
        "                    'font': {'color': '__ __'}, 'text': __ __}\n",
        "\n",
        "anotacion_ganacia = { _ _ }\n",
        "\n",
        "\n",
        "# Añade las anotaciones a la fig_ahorros\n",
        "fig_ahorros.update_layout({__ __: [__ __]})\n",
        "\n",
        "# Visualiza la figura\n",
        "fig_ahorros.show()"
      ],
      "execution_count": null,
      "outputs": []
    }
  ]
}