{
  "nbformat": 4,
  "nbformat_minor": 0,
  "metadata": {
    "colab": {
      "name": "retos_uno.ipynb",
      "provenance": []
    },
    "kernelspec": {
      "name": "python3",
      "display_name": "Python 3"
    },
    "language_info": {
      "name": "python"
    }
  },
  "cells": [
    {
      "cell_type": "markdown",
      "metadata": {
        "id": "kP0E0fRGpclI"
      },
      "source": [
        "# Reto 1\n",
        "\n",
        "## A continuación realiza lo siguiente:\n",
        "* Explora y analiza el conjunto de datos \"score_estudiantes.csv\", utiliza pandas para manipular los datos\n",
        "* Crea un gráfico de barras simple, estableciendo el eje Y como la puntuación y el eje X como el nombre del estudiante\n",
        "* Añade un título a tu gráfico"
      ]
    },
    {
      "cell_type": "code",
      "metadata": {
        "id": "EZb6R2kqpS4H"
      },
      "source": [
        "# Código"
      ],
      "execution_count": null,
      "outputs": []
    },
    {
      "cell_type": "markdown",
      "metadata": {
        "id": "dYSsmZlXqS-H"
      },
      "source": [
        "# Reto 2\n",
        "* Debes importar el archivo 'ingresos_datos.csv' como DataFrame\n",
        "* Crea un gráfico de caja, estableciendo el eje Y apropiado para los datos de ingresos de la empresa"
      ]
    },
    {
      "cell_type": "code",
      "metadata": {
        "id": "GuH58PhKqWUR"
      },
      "source": [
        "# Código"
      ],
      "execution_count": null,
      "outputs": []
    },
    {
      "cell_type": "markdown",
      "metadata": {
        "id": "gfPRobcksrSg"
      },
      "source": [
        "# Reto 3\n",
        "* Con el DataFrame de los ingresos, ahora crearás un Histograma\n",
        "* Configura la columna 'Ingreso' para que sea usada en el eje x\n",
        "* Establece el número de barras a 5"
      ]
    },
    {
      "cell_type": "code",
      "metadata": {
        "id": "JwwCpvi1ujRM"
      },
      "source": [
        "# Código"
      ],
      "execution_count": null,
      "outputs": []
    },
    {
      "cell_type": "markdown",
      "metadata": {
        "id": "szgusJfB3yNy"
      },
      "source": [
        "# Reto 4\n",
        "* Crea una lista de escala de colores de rojo (255, 0, 0) a verde sencillo (3, 252, 40)\n",
        "* Crea un gráfico de barras utilizando el DataFrame de \"score_estudiantes\"\n",
        "* Establece el argumento color para una columna numérica \n",
        "* Usa la escala que creaste como escala de color para el gráfico"
      ]
    },
    {
      "cell_type": "code",
      "metadata": {
        "id": "P-FKzr7N5Va1"
      },
      "source": [
        "import pandas as pd\n",
        "score_estudiantes = pd.read_csv('https://raw.githubusercontent.com/Ramseths/data_visualization_workshop/main/data/score_estudiantes.csv')"
      ],
      "execution_count": null,
      "outputs": []
    },
    {
      "cell_type": "code",
      "metadata": {
        "id": "yKyJc2CY5p78"
      },
      "source": [
        "# Código"
      ],
      "execution_count": null,
      "outputs": []
    }
  ]
}